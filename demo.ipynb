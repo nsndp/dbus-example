{
  "nbformat": 4,
  "nbformat_minor": 0,
  "metadata": {
    "colab": {
      "provenance": []
    },
    "kernelspec": {
      "name": "python3",
      "display_name": "Python 3"
    },
    "language_info": {
      "name": "python"
    }
  },
  "cells": [
    {
      "cell_type": "markdown",
      "source": [
        "*Note: you should use the default (non-GPU / non-TPU) version of Colab runtime for this tutorial. There might be some Linux differences in the non-free environment that can affect stuff described below, plus Colab will nag you about GPU staying idle anyway.*"
      ],
      "metadata": {
        "id": "a7nDC6pYPdEi"
      }
    },
    {
      "cell_type": "markdown",
      "source": [
        "As per the usual Colab routine, start with clicking \"Copy to Drive\" button above, then execute the following cell to get the sources and navigate to the relevant folder:"
      ],
      "metadata": {
        "id": "jBdOuJBVIxGp"
      }
    },
    {
      "cell_type": "code",
      "source": [
        "!git clone https://github.com/nsndp/dbus-example\n",
        "%cd dbus-example"
      ],
      "metadata": {
        "id": "6evb2wJtJdg5"
      },
      "execution_count": null,
      "outputs": []
    },
    {
      "cell_type": "markdown",
      "source": [
        "Let's also give executable permissions to every shell script, as well as to prebuilt C binaries:"
      ],
      "metadata": {
        "id": "fTnuCAmbtYSG"
      }
    },
    {
      "cell_type": "code",
      "source": [
        "!find . -type f -iname \"*.sh\" -exec chmod -v +x {} \\;\n",
        "!chmod -v +x gserver gclient"
      ],
      "metadata": {
        "id": "r4F-AJxJtqIc"
      },
      "execution_count": null,
      "outputs": []
    },
    {
      "cell_type": "markdown",
      "source": [
        "# Installing prerequisites"
      ],
      "metadata": {
        "id": "djuQxQZc8XGR"
      }
    },
    {
      "cell_type": "markdown",
      "source": [
        "You can only run the cells for the languages you're interested in; the rest should still work as long as you stick to those languages. You can even skip this section altogether if you're fine with only C examples using prebuilt binaries.\n"
      ],
      "metadata": {
        "id": "uR-GpIQq8cFp"
      }
    },
    {
      "cell_type": "markdown",
      "source": [
        "Also note that, since Colab virtual environments keep being updated, some of the installation particulars below might change - hopefully not by much, but feel free to open an issue back at GitHub if something breaks."
      ],
      "metadata": {
        "id": "SfNP4VdqJyTG"
      }
    },
    {
      "cell_type": "markdown",
      "source": [
        "For C's [GLib](https://github.com/GNOME/glib), everything is straightforward:"
      ],
      "metadata": {
        "id": "TsGBBEeaI1ct"
      }
    },
    {
      "cell_type": "code",
      "execution_count": null,
      "metadata": {
        "id": "jSNmkRO7HmZt"
      },
      "outputs": [],
      "source": [
        "!apt-get install libglib2.0-dev"
      ]
    },
    {
      "cell_type": "markdown",
      "source": [
        "For Python's [dasbus](https://github.com/rhinstaller/dasbus), PyGObject should be preinstalled, but it seems to have problems when multiple Python versions are present (as is the case in Colab), and we circumvent it by switching back to 3.8:"
      ],
      "metadata": {
        "id": "gXxF4fJiI9lG"
      }
    },
    {
      "cell_type": "code",
      "source": [
        "!update-alternatives --set python3 /usr/bin/python3.8\n",
        "!apt install python3-pip\n",
        "!pip install dasbus"
      ],
      "metadata": {
        "id": "JZaoRK9kJCrO"
      },
      "execution_count": null,
      "outputs": []
    },
    {
      "cell_type": "markdown",
      "source": [
        "For Java's [dbus-java](https://github.com/hypfvieh/dbus-java), Open JDK 11 should be preinstalled, so we only need to add Maven as a building tool:"
      ],
      "metadata": {
        "id": "rsxp0uwoAXMv"
      }
    },
    {
      "cell_type": "code",
      "source": [
        "!apt-get install maven"
      ],
      "metadata": {
        "id": "9vChN443AbfH"
      },
      "execution_count": null,
      "outputs": []
    },
    {
      "cell_type": "markdown",
      "source": [
        "Alternatively,  we can get a newer JDK version and then do a manual installation of fresh Maven as instructed on their [website](https://maven.apache.org/install.html) (uncomment the lines below for this route)."
      ],
      "metadata": {
        "id": "rtkUpVglLM9V"
      }
    },
    {
      "cell_type": "code",
      "source": [
        "#!apt-get install openjdk-17-jdk\n",
        "#!wget https://dlcdn.apache.org/maven/maven-3/3.9.1/binaries/apache-maven-3.9.1-bin.tar.gz -P /content/\n",
        "#!tar xzvf /content/apache-maven-3.9.1-bin.tar.gz -C /content/\n",
        "#!rm -f /content/apache-maven-3.9.1-bin.tar.gz\n",
        "#OLD_ENV_PATH = %env PATH\n",
        "#%env PATH=$OLD_ENV_PATH:/content/apache-maven-3.9.1/bin"
      ],
      "metadata": {
        "id": "zSETLwmzMD3F"
      },
      "execution_count": null,
      "outputs": []
    },
    {
      "cell_type": "markdown",
      "source": [
        "For PHP's [pecl-dbus](https://github.com/derickr/pecl-dbus), first we get PHP and its command-line tool:"
      ],
      "metadata": {
        "id": "1l9VgXG4MvRK"
      }
    },
    {
      "cell_type": "code",
      "source": [
        "!apt-get install php-dev\n",
        "!apt-get install php-cli"
      ],
      "metadata": {
        "id": "oxdDLgzJM7Aq"
      },
      "execution_count": null,
      "outputs": []
    },
    {
      "cell_type": "markdown",
      "source": [
        "And then we build the extension from source as per [instructions](https://github.com/derickr/pecl-dbus/blob/master/README.rst#building) (the source itself can then be safely removed):"
      ],
      "metadata": {
        "id": "Nx0Wc38-NDWn"
      }
    },
    {
      "cell_type": "code",
      "source": [
        "!apt-get install libdbus-1-dev\n",
        "!cd /content && git clone https://github.com/derickr/pecl-dbus\n",
        "!cd /content/pecl-dbus && phpize && ./configure && make && make install\n",
        "!rm -rf /content/pecl-dbus"
      ],
      "metadata": {
        "id": "De8dkWoMM843"
      },
      "execution_count": null,
      "outputs": []
    },
    {
      "cell_type": "markdown",
      "source": [
        "Alternatively, we have a prebuilt version of the same extension that can copied to the relevant PHP directory (uncomment the line below for this route). Note that, however, it would only work for the same PHP version it was built with (PHP 7.4)."
      ],
      "metadata": {
        "id": "uh-ZK2vgOaTR"
      }
    },
    {
      "cell_type": "code",
      "source": [
        "#!cp php-ext/dbus.so $(php -i | grep extension_dir | cut -d \" \" -f 5)"
      ],
      "metadata": {
        "id": "UHT5R-6EOeEo"
      },
      "execution_count": null,
      "outputs": []
    },
    {
      "cell_type": "markdown",
      "source": [
        "# Building"
      ],
      "metadata": {
        "id": "8eBfWYm0bpli"
      }
    },
    {
      "cell_type": "markdown",
      "source": [
        "For C, prebuilt binaries *gserver* and *gclient* are included in the project's root. You can, however, rebuild them by running:"
      ],
      "metadata": {
        "id": "XRwCMztUbr84"
      }
    },
    {
      "cell_type": "code",
      "source": [
        "!make -C gdbus_server\n",
        "!make -C gdbus_client"
      ],
      "metadata": {
        "id": "Au0EUQAdbrPp"
      },
      "execution_count": null,
      "outputs": []
    },
    {
      "cell_type": "markdown",
      "source": [
        "For Java, run the following to do builds for server+client inside their respective directories and then copy .jar results to the project's root:"
      ],
      "metadata": {
        "id": "gQlNN9OVcKSw"
      }
    },
    {
      "cell_type": "code",
      "source": [
        "!cd java-server && mvn package && cd ..\n",
        "!cd java-client && mvn package && cd ..\n",
        "!cp java-server/target/java-server-1.0-SNAPSHOT.jar java-server.jar\n",
        "!cp java-client/target/java-client-1.0-SNAPSHOT.jar java-client.jar"
      ],
      "metadata": {
        "id": "PxAdMvDacNDq"
      },
      "execution_count": null,
      "outputs": []
    },
    {
      "cell_type": "markdown",
      "source": [
        "For Python and PHP, no building is necessary, them being interpreted languages."
      ],
      "metadata": {
        "id": "iYbuuE1Rgdmw"
      }
    },
    {
      "cell_type": "markdown",
      "source": [
        "Alternatively, there's a script s_build.sh included that can do the same thing (uncomment the line and choose an appropriate flag for this route):"
      ],
      "metadata": {
        "id": "MMIfF_ARcdLJ"
      }
    },
    {
      "cell_type": "code",
      "source": [
        "#!./s_build.sh [all|c|java]"
      ],
      "metadata": {
        "id": "nII8CTpycrHg"
      },
      "execution_count": null,
      "outputs": []
    },
    {
      "cell_type": "markdown",
      "source": [
        "In can also clean up afterwards if needed:"
      ],
      "metadata": {
        "id": "QQDbgcd9c1DD"
      }
    },
    {
      "cell_type": "code",
      "source": [
        "#!./s_build.sh clean"
      ],
      "metadata": {
        "id": "DDtLouTSc64z"
      },
      "execution_count": null,
      "outputs": []
    },
    {
      "cell_type": "markdown",
      "source": [
        "# Starting/stopping D-Bus"
      ],
      "metadata": {
        "id": "eNo7ISOOO-is"
      }
    },
    {
      "cell_type": "markdown",
      "source": [
        "Since free Colab runs inside a container, we'll need to start D-Bus service manually and set the neccessary environment variable like this:"
      ],
      "metadata": {
        "id": "hXwmlnX4PCc6"
      }
    },
    {
      "cell_type": "code",
      "source": [
        "!export DBUS_SESSION_BUS_ADDRESS=$(dbus-daemon --session --fork --print-address)"
      ],
      "metadata": {
        "id": "lhdwba2-R_i8"
      },
      "execution_count": null,
      "outputs": []
    },
    {
      "cell_type": "markdown",
      "source": [
        "*dbus-daemon* utility is part of *dbus* package that should be preinstalled. There is also *dbus-launch* utility from *dbus-x11* package that can do the same thing with a shorter command:"
      ],
      "metadata": {
        "id": "0g7Xj6b5TUxG"
      }
    },
    {
      "cell_type": "code",
      "source": [
        "!apt-get install dbus-x11\n",
        "!export $(dbus-launch)"
      ],
      "metadata": {
        "id": "Yy0GM_fxUGm8"
      },
      "execution_count": null,
      "outputs": []
    },
    {
      "cell_type": "markdown",
      "source": [
        "However, Colab/Jupyter treats every ! command as its own terminal session, which means that any env var set with *export* is lost beyond it, so we'll need to launch these commands in conjunction with running server+client using \"**&&**\" or \"**;**\". For now, let's list all running processes to confirm that the two dbus-daemons from above are up, then stop them both by name (-e option for pkill means to print the results)."
      ],
      "metadata": {
        "id": "nczpGDD_UvwE"
      }
    },
    {
      "cell_type": "code",
      "source": [
        "!ps -ef\n",
        "!pkill -e dbus-daemon"
      ],
      "metadata": {
        "id": "zWUhXSQPSJed"
      },
      "execution_count": null,
      "outputs": []
    },
    {
      "cell_type": "markdown",
      "source": [
        "The above applies when using D-Bus session bus, which is more common and hence is the default mode for our servers/clients. Starting the system bus is a bit more distro-specific, but on Ubuntu/Debian systems can usually be achieved with a built-in init script like this:"
      ],
      "metadata": {
        "id": "DU5IU89aa9Lf"
      }
    },
    {
      "cell_type": "code",
      "source": [
        "!/etc/init.d/dbus start"
      ],
      "metadata": {
        "id": "aCKhnJE6beAj"
      },
      "execution_count": null,
      "outputs": []
    },
    {
      "cell_type": "code",
      "source": [
        "!/etc/init.d/dbus stop"
      ],
      "metadata": {
        "id": "utmpL6cobf0p"
      },
      "execution_count": null,
      "outputs": []
    },
    {
      "cell_type": "markdown",
      "source": [
        "# Running"
      ],
      "metadata": {
        "id": "sMyDys_lbhvu"
      }
    },
    {
      "cell_type": "markdown",
      "source": [
        "The following command will start the session bus, launch C server in background, give it a bit of time to initialize, launch C client, wait for it to finish and then stop the bus. You should see the expected test output (4 workers with 4 instances each) as described in README."
      ],
      "metadata": {
        "id": "BBFejqOkc-kU"
      }
    },
    {
      "cell_type": "code",
      "source": [
        "!export $(dbus-launch) && (./gserver &) && sleep 1 && (./gclient) && pkill -e dbus-daemon"
      ],
      "metadata": {
        "id": "xdguHkAebi8D"
      },
      "execution_count": null,
      "outputs": []
    },
    {
      "cell_type": "markdown",
      "source": [
        "The analogous commands for other languages' implementations are as follows:"
      ],
      "metadata": {
        "id": "o_LKUD5pdh1z"
      }
    },
    {
      "cell_type": "code",
      "source": [
        "!export $(dbus-launch) && \\\n",
        "(python3 dasbus_server.py &) && sleep 1 && \\\n",
        "(python3 dasbus_client.py) && pkill -e dbus-daemon"
      ],
      "metadata": {
        "id": "UdEN9_ccd0b0"
      },
      "execution_count": null,
      "outputs": []
    },
    {
      "cell_type": "code",
      "source": [
        "!export $(dbus-launch) && \\\n",
        "(java -cp java-server.jar com.exmpl.server.Server &) && sleep 5 && \\\n",
        "(java -cp java-client.jar com.exmpl.client.Client) && pkill -e dbus-daemon\n",
        "# dbus-java takes a lot of time to initialize the server for some reason, hence sleep 5 instead of 1"
      ],
      "metadata": {
        "id": "XemcCNccefJW"
      },
      "execution_count": null,
      "outputs": []
    },
    {
      "cell_type": "code",
      "source": [
        "!export $(dbus-launch) && \\\n",
        "(php -d extension=dbus.so -f pecldbus_server.php &) && sleep 1 && \\\n",
        "(php -d extension=dbus.so -f pecldbus_client.php) && pkill -e dbus-daemon"
      ],
      "metadata": {
        "id": "Sjw6cUfHehCh"
      },
      "execution_count": null,
      "outputs": []
    },
    {
      "cell_type": "markdown",
      "source": [
        "And doing the same with C but on system bus (with copying a prepared config file to enable necessary permissions first) would be:"
      ],
      "metadata": {
        "id": "ck6yfTOier3s"
      }
    },
    {
      "cell_type": "code",
      "source": [
        "!cp com.exmpl.v0001.conf /usr/share/dbus-1/system.d\n",
        "!/etc/init.d/dbus start && \\\n",
        "(./gserver --system &) && sleep 1 && \\\n",
        "(./gclient --system) && \\\n",
        "/etc/init.d/dbus stop"
      ],
      "metadata": {
        "id": "u8KUFqZ7eweM"
      },
      "execution_count": null,
      "outputs": []
    },
    {
      "cell_type": "markdown",
      "source": [
        "There's also s_run.sh script included that includes all of the above. Feel free to run it using any combination of params and confirm that results stay the same:"
      ],
      "metadata": {
        "id": "wG-Ab99XfqHU"
      }
    },
    {
      "cell_type": "code",
      "source": [
        "#!./s_run.sh               # run C server and C client (default)\n",
        "#!./s_run.sh c c           # same as the above\n",
        "#!./s_run.sh py py         # run Python server and Python client\n",
        "#!./s_run.sh java php      # run Java server and PHP client\n",
        "#!./s_run.sh php java      # run PHP server and Java client\n",
        "#!./s_run.sh c c --system  # run C server and C client on system bus"
      ],
      "metadata": {
        "id": "aINszJYzf2Ar"
      },
      "execution_count": null,
      "outputs": []
    },
    {
      "cell_type": "markdown",
      "source": [
        "Finally, there's s_run_multi.sh script that can start multiple clients simultaneously like this:"
      ],
      "metadata": {
        "id": "wSS2Qwt0gHPS"
      }
    },
    {
      "cell_type": "code",
      "source": [
        "!./s_run_multi.sh c c+c+py+php"
      ],
      "metadata": {
        "id": "a3615-r6gNqn"
      },
      "execution_count": null,
      "outputs": []
    }
  ]
}
